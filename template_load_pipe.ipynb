{
 "cells": [
  {
   "cell_type": "markdown",
   "id": "f0f38192",
   "metadata": {},
   "source": [
    "# 1S Setup"
   ]
  },
  {
   "cell_type": "code",
   "execution_count": null,
   "id": "5baedace",
   "metadata": {},
   "outputs": [],
   "source": [
    "from pyspark.sql import SparkSession\n",
    "from transforms_class import DropVariable\n",
    "from supply_load import SupplyLoad\n",
    "\n",
    "# Create Spark session\n",
    "print(\"Creating Spark session\")\n",
    "spark = SparkSession.builder.master(\"local\").appName(\"TransformTest\").getOrCreate()"
   ]
  },
  {
   "cell_type": "markdown",
   "id": "5db6b22c",
   "metadata": {},
   "source": [
    "2L Load input data"
   ]
  },
  {
   "cell_type": "code",
   "execution_count": null,
   "id": "2efd8dd0",
   "metadata": {},
   "outputs": [],
   "source": [
    "\n",
    "# load pipeline tables\n",
    "supply_frames = SupplyLoad(\"test_tables/payload.json\", spark=spark)\n",
    "\n",
    "#show original test table\n",
    "print(\"Original columns:\", supply_frames[\"test_table\"].columns)"
   ]
  },
  {
   "cell_type": "markdown",
   "id": "008f1aa1",
   "metadata": {},
   "source": [
    "3 Transformations"
   ]
  },
  {
   "cell_type": "code",
   "execution_count": null,
   "id": "f8d67b89",
   "metadata": {},
   "outputs": [],
   "source": [
    "# Instantiate DropVariable transform\n",
    "supply_frames[\"test_table\"] = DropVariable(\"age\")(supply_frames[\"test_table\"])\n",
    "\n",
    "# Show result\n",
    "print(\"Transformed columns:\", supply_frames[\"test_table\"].columns)\n",
    "supply_frames[\"test_table\"].df.show()"
   ]
  },
  {
   "cell_type": "markdown",
   "id": "7fca9623",
   "metadata": {},
   "source": [
    "# X Cleanup"
   ]
  },
  {
   "cell_type": "code",
   "execution_count": null,
   "id": "425e8fbc",
   "metadata": {},
   "outputs": [],
   "source": [
    "#save table events\n",
    "supply_frames.save_events()"
   ]
  }
 ],
 "metadata": {
  "kernelspec": {
   "display_name": "Python 3",
   "language": "python",
   "name": "python3"
  },
  "language_info": {
   "name": "python",
   "version": "3.10.6"
  }
 },
 "nbformat": 4,
 "nbformat_minor": 5
}
