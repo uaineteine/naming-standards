{
 "cells": [
  {
   "cell_type": "code",
   "execution_count": 11,
   "id": "4eb5208b",
   "metadata": {},
   "outputs": [],
   "source": [
    "from transformslib.tables.names.colname import Colname"
   ]
  },
  {
   "cell_type": "code",
   "execution_count": 13,
   "id": "4206ff65",
   "metadata": {},
   "outputs": [
    {
     "data": {
      "text/plain": [
       "'TEST'"
      ]
     },
     "execution_count": 13,
     "metadata": {},
     "output_type": "execute_result"
    }
   ],
   "source": [
    "Colname(\"test\")"
   ]
  }
 ],
 "metadata": {
  "kernelspec": {
   "display_name": "Python 3",
   "language": "python",
   "name": "python3"
  },
  "language_info": {
   "codemirror_mode": {
    "name": "ipython",
    "version": 3
   },
   "file_extension": ".py",
   "mimetype": "text/x-python",
   "name": "python",
   "nbconvert_exporter": "python",
   "pygments_lexer": "ipython3",
   "version": "3.10.8"
  }
 },
 "nbformat": 4,
 "nbformat_minor": 5
}
